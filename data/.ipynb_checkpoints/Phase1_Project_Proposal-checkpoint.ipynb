{
 "cells": [
  {
   "cell_type": "markdown",
   "id": "4b7647d6",
   "metadata": {},
   "source": [
    "# Project Proposal"
   ]
  },
  {
   "cell_type": "markdown",
   "id": "b4e76afd",
   "metadata": {},
   "source": [
    "## Introduction"
   ]
  },
  {
   "cell_type": "markdown",
   "id": "6b8d8223",
   "metadata": {},
   "source": [
    "This project is about building a model for Porto Seguro, one of Brazil's largest auto and homeowner insurance companies, to predict the probability that a driver will initiate an auto insurance claim in the next year. The data is from Kaggle Competition: https://www.kaggle.com/competitions/porto-seguro-safe-driver-prediction/overview"
   ]
  },
  {
   "cell_type": "markdown",
   "id": "a6188074",
   "metadata": {},
   "source": [
    "## Business Impact"
   ]
  },
  {
   "cell_type": "markdown",
   "id": "cef2433b",
   "metadata": {},
   "source": [
    "The model we build is not only beneficial to the company, but also to its customers.  \n",
    "* For customers:\n",
    "    1. By building an interpretable model, customers can clearly understand what behaviors and situations they may be predict as having a high possibility to initiate an auto insurance claim, so that they can avoid doing these behaviors.\n",
    "    2. The rules of setting different insurance price for different customers is objective.  \n",
    "\n",
    "* For the company:\n",
    "    1. The model can help them recognize potential problematic customers, so as to prevent them from losing money. In other words, the model can improve their performance.\n",
    "    2. The model also brings the company a systematic way of segmenting customers. It makes the job easier and more efficient, so that it saves a lot of labor cost for the company."
   ]
  },
  {
   "cell_type": "markdown",
   "id": "92fa3901",
   "metadata": {},
   "source": [
    "## Strategy Plan"
   ]
  },
  {
   "cell_type": "markdown",
   "id": "c24793fc",
   "metadata": {},
   "source": [
    "### Executive Summary"
   ]
  },
  {
   "cell_type": "markdown",
   "id": "3e7b3e92",
   "metadata": {},
   "source": [
    "### Future State Plan"
   ]
  },
  {
   "cell_type": "markdown",
   "id": "56f60f68",
   "metadata": {},
   "source": [
    "* Exploratory Data Analysis\n",
    "* Build reasonable prediction model"
   ]
  },
  {
   "cell_type": "markdown",
   "id": "9c4c32e3",
   "metadata": {},
   "source": [
    "### Current State"
   ]
  },
  {
   "cell_type": "markdown",
   "id": "f9aa111c",
   "metadata": {},
   "source": [
    "* Data Preprocessing.\n",
    "    1. Be familiar with the data.\n",
    "    2. Fill missing data.\n",
    "    3. Data cleaning and proprocessing.\n",
    "        * Change data type.\n",
    "        * Deal with wrong / unreasonable data.\n",
    "        * Create necessary new columns."
   ]
  },
  {
   "cell_type": "code",
   "execution_count": null,
   "id": "5b9ee5cc",
   "metadata": {},
   "outputs": [],
   "source": []
  }
 ],
 "metadata": {
  "kernelspec": {
   "display_name": "Python 3 (ipykernel)",
   "language": "python",
   "name": "python3"
  },
  "language_info": {
   "codemirror_mode": {
    "name": "ipython",
    "version": 3
   },
   "file_extension": ".py",
   "mimetype": "text/x-python",
   "name": "python",
   "nbconvert_exporter": "python",
   "pygments_lexer": "ipython3",
   "version": "3.9.7"
  }
 },
 "nbformat": 4,
 "nbformat_minor": 5
}
